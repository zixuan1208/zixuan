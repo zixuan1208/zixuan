{
  "cells": [
    {
      "cell_type": "markdown",
      "metadata": {
        "id": "L6chybAVFJW2",
        "tags": []
      },
      "source": [
        "# **Notebook: Backpropagation**\n",
        "\n",
        "This notebook runs the backpropagation algorithm on a deep neural network as described in section 7.4 of the book for the least square loss function and for one data sample. In the end, it compares the derivatives with finite difference.\n",
        "\n",
        "After working though this notebook, you will use this notebook to extend to handle softmax output and cross-entropy loss as well as multiple data points.\n",
        "\n",
        "The notebook is a slight modification of https://github.com/udlbook/udlbook/blob/main/Notebooks/Chap07/7_2_Backpropagation.ipynb"
      ]
    },
    {
      "cell_type": "code",
      "execution_count": 391,
      "metadata": {
        "id": "LdIDglk1FFcG",
        "tags": []
      },
      "outputs": [],
      "source": [
        "import numpy as np\n",
        "import matplotlib.pyplot as plt"
      ]
    },
    {
      "cell_type": "markdown",
      "metadata": {
        "id": "nnUoI0m6GyjC",
        "tags": []
      },
      "source": [
        "First let's define a neural network.  We'll just choose the weights and biases randomly for now."
      ]
    },
    {
      "cell_type": "code",
      "execution_count": 392,
      "metadata": {
        "id": "WVM4Tc_jGI0Q",
        "tags": []
      },
      "outputs": [],
      "source": [
        "# Set seed so we always get the same random numbers\n",
        "np.random.seed(0)\n",
        "\n",
        "#5.59\n",
        "# Number of hidden layers\n",
        "K = 5\n",
        "# Number of neurons per layer\n",
        "D = 6\n",
        "# Input layer dimension\n",
        "D_i = 1\n",
        "# Output layer dimension\n",
        "D_o = 1\n",
        "\n",
        "#30.595\n",
        "# K = 3  #\n",
        "# D = 4  #\n",
        "# D_i = 1\n",
        "# D_o = 1\n",
        "\n",
        "# #808\n",
        "# K = 5\n",
        "# D = 6\n",
        "# D_i = 2  # 修改输入层维度\n",
        "# D_o = 1\n",
        "\n",
        "# Make empty lists\n",
        "all_weights = [None] * (K+1)\n",
        "all_biases = [None] * (K+1)\n",
        "\n",
        "# Create input and output layer\n",
        "if K==0:\n",
        "    all_weights[0] = np.random.normal(size=(D_o, D_i))\n",
        "else:\n",
        "    all_weights[0] = np.random.normal(size=(D, D_i))\n",
        "    all_weights[-1] = np.random.normal(size=(D_o, D))\n",
        "    all_biases[0] = np.random.normal(size =(D,1))\n",
        "\n",
        "all_biases[-1]= np.random.normal(size =(D_o,1))\n",
        "\n",
        "# Create intermediate layers\n",
        "for layer in range(1,K):\n",
        "    all_weights[layer] = np.random.normal(size=(D,D))\n",
        "    all_biases[layer] = np.random.normal(size=(D,1))"
      ]
    },
    {
      "cell_type": "code",
      "execution_count": 393,
      "metadata": {
        "id": "jZh-7bPXIDq4",
        "tags": []
      },
      "outputs": [],
      "source": [
        "# Define the Rectified Linear Unit (ReLU) function\n",
        "def ReLU(preactivation):\n",
        "    activation = preactivation.clip(0.0)\n",
        "    return activation"
      ]
    },
    {
      "cell_type": "markdown",
      "metadata": {
        "id": "5irtyxnLJSGX",
        "tags": []
      },
      "source": [
        "Now let's run our random network.  The weight matrices $\\boldsymbol\\Omega_{1\\ldots K}$ are the entries of the list \"all_weights\" and the biases $\\boldsymbol\\beta_{1\\ldots K}$ are the entries of the list \"all_biases\".\n",
        "\n",
        "We know that we will need the preactivations $\\mathbf{f}_{0\\ldots K}$ and the activations $\\mathbf{h}_{1\\ldots K}$ later for the backward pass of backpropagation, so we'll store and return these as well.\n"
      ]
    },
    {
      "cell_type": "code",
      "execution_count": 394,
      "metadata": {
        "id": "LgquJUJvJPaN",
        "tags": []
      },
      "outputs": [],
      "source": [
        "def forward_pass(net_input, all_weights, all_biases):\n",
        "\n",
        "    # Retrieve number of layers\n",
        "    K = len(all_weights) -1\n",
        "\n",
        "    # We'll store the pre-activations at each layer in a list \"all_f\"\n",
        "    # and the activations in a second list \"all_h\".\n",
        "    all_f = [None] * (K+1)\n",
        "    all_h = [None] * (K+1)\n",
        "\n",
        "    #For convenience, we'll set all_h[0] to be the input, and all_f[K] will be the output\n",
        "    all_h[0] = net_input\n",
        "\n",
        "    # Run through the layers, calculating all_f[0...K-1] and all_h[1...K]\n",
        "    for layer in range(K):\n",
        "        # Update preactivations and activations at this layer according to eq. 7.16 (eq. 7.17 if you use pdf version)\n",
        "        # Remember to use np.matmul for matrix multiplications\n",
        "        # TODO -- Replace the lines below\n",
        "        all_f[layer] = np.matmul(all_weights[layer],all_h[layer]) + all_biases[layer]\n",
        "        all_h[layer+1] = ReLU(all_f[layer])\n",
        "\n",
        "    # Compute the output from the last hidden layer\n",
        "    # TODO -- Replace the line below\n",
        "    # all_f[K] = (all_f[K-1] - net_input) ** 2\n",
        "    all_f[K]= np.matmul(all_weights[K], all_h[K])+ all_biases[K]\n",
        "    # Retrieve the output\n",
        "    net_output = all_f[K]\n",
        "\n",
        "    return net_output, all_f, all_h"
      ]
    },
    {
      "cell_type": "code",
      "execution_count": 395,
      "metadata": {
        "id": "IN6w5m2ZOhnB",
        "tags": [],
        "colab": {
          "base_uri": "https://localhost:8080/"
        },
        "outputId": "6e028a33-bacf-49c6-e143-01e1dae819d3"
      },
      "outputs": [
        {
          "output_type": "stream",
          "name": "stdout",
          "text": [
            "True output = 2.757, Your answer = 2.757\n"
          ]
        }
      ],
      "source": [
        "# Define input\n",
        "n_samples=20 # Number of samples\n",
        "np.random.seed(0)\n",
        "net_input = np.random.normal(0,1,size=(D_i,n_samples)) # If data points as columns\n",
        "\n",
        "# Compute network output\n",
        "net_output, all_f, all_h = forward_pass(net_input,all_weights, all_biases)\n",
        "print(\"True output = %3.3f, Your answer = %3.3f\"%(2.757, net_output[0,0]))"
      ]
    },
    {
      "cell_type": "markdown",
      "metadata": {
        "id": "SxVTKp3IcoBF",
        "tags": []
      },
      "source": [
        "Now let's define a cost function. We'll just use the least squares loss function for this. We'll also write a function to compute d_cost_d_output.\n"
      ]
    },
    {
      "cell_type": "code",
      "execution_count": 396,
      "metadata": {
        "tags": [],
        "colab": {
          "base_uri": "https://localhost:8080/"
        },
        "id": "I6c4ux9NRjJA",
        "outputId": "e5d69f7b-12a9-4c7d-ef6a-0e3d05f48b2a"
      },
      "outputs": [
        {
          "output_type": "stream",
          "name": "stdout",
          "text": [
            "y =  [[-2.553  0.654  0.864 -0.742  2.27  -1.454  0.046 -0.187  1.533  1.469\n",
            "   0.155  0.378 -0.888 -1.981 -0.348  0.156  1.23   1.202 -0.387 -0.302]]\n",
            "Cost = 9.762\n"
          ]
        }
      ],
      "source": [
        "def compute_cost(net_output, y):\n",
        "    I = y.shape[1]  # Number of data points if data points as columns\n",
        "    return np.sum((net_output-y) * (net_output-y))/I\n",
        "\n",
        "def d_cost_d_output(net_output, y):\n",
        "    I = y.shape[1] # Number of data points if data points as columns\n",
        "    return 2*(net_output -y)/I;\n",
        "\n",
        "# Define the output we later will use for evaluating the gradients.\n",
        "y = np.random.normal(0,1,size=(D_o,n_samples))\n",
        "L = compute_cost(net_output, y)\n",
        "print(\"y = \",y)\n",
        "print(\"Cost = %3.3f\"%(L))"
      ]
    },
    {
      "cell_type": "markdown",
      "metadata": {
        "id": "98WmyqFYWA-0",
        "tags": []
      },
      "source": [
        "Now let's compute the derivatives of the network.  We already computed the forward pass.  Let's compute the backward pass."
      ]
    },
    {
      "cell_type": "code",
      "execution_count": 397,
      "metadata": {
        "id": "LJng7WpRPLMz",
        "tags": []
      },
      "outputs": [],
      "source": [
        "# We'll need the indicator function\n",
        "def indicator_function(x):\n",
        "    x_in = np.array(x)\n",
        "    x_in[x_in>0] = 1\n",
        "    x_in[x_in<=0] = 0\n",
        "    return x_in\n",
        "\n",
        "# Main backward pass routine\n",
        "def backward_pass(all_weights, all_biases, all_f, all_h, y):\n",
        "    # We'll store the derivatives dl_dweights and dl_dbiases in lists as well\n",
        "    all_dl_dweights = [None] * (K+1)\n",
        "    all_dl_dbiases = [None] * (K+1)\n",
        "    # And we'll store the derivatives of the cost with respect to the activation and preactivations in lists\n",
        "    all_dl_df = [None] * (K+1)\n",
        "    all_dl_dh = [None] * (K+1)\n",
        "    # Again for convenience we'll stick with the convention that all_h[0] is the net input and all_f[k] in the net output\n",
        "\n",
        "    # Compute derivatives of the cost with respect to the network output\n",
        "    all_dl_df[K] = np.array(d_cost_d_output(all_f[K],y))\n",
        "    # Now work backwards through the network\n",
        "    for layer in range(K,-1,-1):\n",
        "        # TODO Calculate the derivatives of the cost with respect to the biases at layer from all_dl_df[layer]. (eq 7.21, pdf version: eq 7.22)\n",
        "        # NOTE!  To take a copy of matrix X, use Z=np.array(X)\n",
        "        # REPLACE THIS LINE\n",
        "        all_dl_dbiases[layer] = np.sum(all_dl_df[layer],axis=1,keepdims=True)\n",
        "\n",
        "        # TODO Calculate the derivatives of the cost with respect to the weights at layer from all_dl_df[layer] and all_h[layer] (eq 7.22, pdf version: eq 7.23)\n",
        "        # Don't forget to use np.matmul\n",
        "        # REPLACE THIS LINE\n",
        "        all_dl_dweights[layer] = np.matmul(all_dl_df[layer],all_h[layer].T)\n",
        "\n",
        "        # TODO: calculate the derivatives of the cost with respect to the activations from weight and derivatives of next preactivations (second part of last line of eq 7.24, pdf version: eq 7.25)\n",
        "        # REPLACE THIS LINE\n",
        "        all_dl_dh[layer] = np.matmul(all_weights[layer].T, all_dl_df[layer])\n",
        "\n",
        "        if layer > 0:\n",
        "            # TODO Calculate the derivatives of the cost with respect to the pre-activation f (use derivative of ReLu function, first part of last line of eq 7.24, pdf version: eq 7.25)\n",
        "            # REPLACE THIS LINE\n",
        "            all_dl_df[layer-1] = indicator_function(all_f[layer-1]) * all_dl_dh[layer]\n",
        "\n",
        "\n",
        "    return all_dl_dweights, all_dl_dbiases"
      ]
    },
    {
      "cell_type": "code",
      "execution_count": 398,
      "metadata": {
        "id": "9A9MHc4sQvbp",
        "tags": []
      },
      "outputs": [],
      "source": [
        "all_dl_dweights, all_dl_dbiases = backward_pass(all_weights, all_biases, all_f, all_h, y)"
      ]
    },
    {
      "cell_type": "code",
      "execution_count": 399,
      "metadata": {
        "colab": {
          "base_uri": "https://localhost:8080/"
        },
        "id": "PK-UtE3hreAK",
        "outputId": "a2eea0ec-04ae-46d3-9be0-8edaf9c2b409",
        "scrolled": false,
        "tags": []
      },
      "outputs": [
        {
          "output_type": "stream",
          "name": "stdout",
          "text": [
            "-----------------------------------------------\n",
            "Bias 0, derivatives from backprop:\n",
            "[[ 0.007]\n",
            " [-0.001]\n",
            " [ 0.009]\n",
            " [ 0.01 ]\n",
            " [ 0.061]\n",
            " [-0.061]]\n",
            "Bias 0, derivatives from finite differences\n",
            "[[ 0.139]\n",
            " [-0.017]\n",
            " [ 0.179]\n",
            " [ 0.197]\n",
            " [ 1.212]\n",
            " [-1.226]]\n",
            "Failure!  Derivatives different.\n",
            "-----------------------------------------------\n",
            "Bias 1, derivatives from backprop:\n",
            "[[-0.153]\n",
            " [-0.189]\n",
            " [ 0.247]\n",
            " [ 0.   ]\n",
            " [ 0.027]\n",
            " [ 0.   ]]\n",
            "Bias 1, derivatives from finite differences\n",
            "[[-3.058]\n",
            " [-3.79 ]\n",
            " [ 4.93 ]\n",
            " [ 0.   ]\n",
            " [ 0.544]\n",
            " [ 0.   ]]\n",
            "Failure!  Derivatives different.\n",
            "-----------------------------------------------\n",
            "Bias 2, derivatives from backprop:\n",
            "[[ 0.008]\n",
            " [-0.118]\n",
            " [-0.   ]\n",
            " [ 0.181]\n",
            " [-0.082]\n",
            " [ 0.083]]\n",
            "Bias 2, derivatives from finite differences\n",
            "[[ 0.151]\n",
            " [-2.369]\n",
            " [-0.009]\n",
            " [ 3.628]\n",
            " [-1.637]\n",
            " [ 1.65 ]]\n",
            "Failure!  Derivatives different.\n",
            "-----------------------------------------------\n",
            "Bias 3, derivatives from backprop:\n",
            "[[ 0.   ]\n",
            " [-0.095]\n",
            " [ 0.114]\n",
            " [ 0.   ]\n",
            " [-0.005]\n",
            " [ 0.018]]\n",
            "Bias 3, derivatives from finite differences\n",
            "[[ 0.   ]\n",
            " [-1.894]\n",
            " [ 2.287]\n",
            " [ 0.   ]\n",
            " [-0.102]\n",
            " [ 0.358]]\n",
            "Failure!  Derivatives different.\n",
            "-----------------------------------------------\n",
            "Bias 4, derivatives from backprop:\n",
            "[[0.075]\n",
            " [0.   ]\n",
            " [0.001]\n",
            " [0.031]\n",
            " [0.014]\n",
            " [0.   ]]\n",
            "Bias 4, derivatives from finite differences\n",
            "[[1.506]\n",
            " [0.   ]\n",
            " [0.016]\n",
            " [0.619]\n",
            " [0.281]\n",
            " [0.   ]]\n",
            "Failure!  Derivatives different.\n",
            "-----------------------------------------------\n",
            "Bias 5, derivatives from backprop:\n",
            "[[0.18]]\n",
            "Bias 5, derivatives from finite differences\n",
            "[[3.604]]\n",
            "Failure!  Derivatives different.\n",
            "-----------------------------------------------\n",
            "Weight 0, derivatives from backprop:\n",
            "[[ 0.019]\n",
            " [-0.022]\n",
            " [-0.033]\n",
            " [ 0.016]\n",
            " [ 0.1  ]\n",
            " [ 0.056]]\n",
            "Weight 0, derivatives from finite differences\n",
            "[[ 0.377]\n",
            " [-0.445]\n",
            " [-0.654]\n",
            " [ 0.311]\n",
            " [ 2.009]\n",
            " [ 1.128]]\n",
            "Failure!  Derivatives different.\n",
            "-----------------------------------------------\n",
            "Weight 1, derivatives from backprop:\n",
            "[[ 0.     0.     0.     0.     0.    -0.106]\n",
            " [ 0.101  0.022  0.057  0.111  0.127 -0.151]\n",
            " [-0.005 -0.001 -0.003  0.    -0.015  0.18 ]\n",
            " [ 0.     0.     0.     0.     0.     0.   ]\n",
            " [ 0.096  0.02   0.054  0.105  0.121  0.   ]\n",
            " [ 0.     0.     0.     0.     0.     0.   ]]\n",
            "Weight 1, derivatives from finite differences\n",
            "[[ 0.     0.     0.     0.     0.    -2.122]\n",
            " [ 2.03   0.432  1.138  2.219  2.538 -3.021]\n",
            " [-0.104 -0.01  -0.064  0.    -0.292  3.603]\n",
            " [ 0.     0.     0.     0.     0.     0.   ]\n",
            " [ 1.929  0.41   1.082  2.106  2.416  0.   ]\n",
            " [ 0.     0.     0.     0.     0.     0.   ]]\n",
            "Failure!  Derivatives different.\n",
            "-----------------------------------------------\n",
            "Weight 2, derivatives from backprop:\n",
            "[[ 0.000e+00  8.250e-03  7.462e-04  0.000e+00  8.910e-03  0.000e+00]\n",
            " [-2.372e-01 -2.061e-02 -1.369e-01  0.000e+00  0.000e+00  0.000e+00]\n",
            " [ 0.000e+00 -1.465e-02  2.027e-04  0.000e+00 -7.057e-03  0.000e+00]\n",
            " [ 3.633e-01  3.156e-02  2.097e-01  0.000e+00  0.000e+00  0.000e+00]\n",
            " [-2.234e-01  1.636e-01 -1.285e-01  0.000e+00  1.042e-01  0.000e+00]\n",
            " [ 1.690e-01  4.909e-03  9.754e-02  0.000e+00 -5.875e-03  0.000e+00]]\n",
            "Weight 2, derivatives from finite differences\n",
            "[[ 0.000e+00  1.650e-01  1.492e-02  0.000e+00  1.782e-01  0.000e+00]\n",
            " [-4.745e+00 -4.122e-01 -2.738e+00  0.000e+00  0.000e+00  0.000e+00]\n",
            " [ 0.000e+00 -2.931e-01  4.053e-03  0.000e+00 -1.411e-01  0.000e+00]\n",
            " [ 7.266e+00  6.312e-01  4.193e+00  0.000e+00  0.000e+00  0.000e+00]\n",
            " [-4.468e+00  3.272e+00 -2.570e+00  0.000e+00  2.083e+00  0.000e+00]\n",
            " [ 3.380e+00  9.818e-02  1.951e+00  0.000e+00 -1.175e-01  0.000e+00]]\n",
            "Failure!  Derivatives different.\n",
            "-----------------------------------------------\n",
            "Weight 3, derivatives from backprop:\n",
            "[[ 0.000e+00  0.000e+00  0.000e+00  0.000e+00  0.000e+00  0.000e+00]\n",
            " [ 3.082e-04 -1.038e-01  1.198e-02 -3.078e-01 -1.290e-01 -2.185e-01]\n",
            " [-4.175e-04  1.067e-01  3.961e-03  3.162e-01  3.180e-01  2.739e-01]\n",
            " [ 0.000e+00  0.000e+00  0.000e+00  0.000e+00  0.000e+00  0.000e+00]\n",
            " [ 9.523e-04  0.000e+00 -8.045e-03  0.000e+00 -9.105e-02 -2.541e-02]\n",
            " [-3.260e-04  3.205e-02 -1.345e-02  9.500e-02 -7.159e-02  3.816e-02]]\n",
            "Weight 3, derivatives from finite differences\n",
            "[[ 0.000e+00  0.000e+00  0.000e+00  0.000e+00  0.000e+00  0.000e+00]\n",
            " [ 6.163e-03 -2.077e+00  2.396e-01 -6.156e+00 -2.581e+00 -4.371e+00]\n",
            " [-8.350e-03  2.133e+00  7.921e-02  6.325e+00  6.361e+00  5.478e+00]\n",
            " [ 0.000e+00  0.000e+00  0.000e+00  0.000e+00  0.000e+00  0.000e+00]\n",
            " [ 1.905e-02  0.000e+00 -1.609e-01  0.000e+00 -1.821e+00 -5.082e-01]\n",
            " [-6.520e-03  6.409e-01 -2.690e-01  1.900e+00 -1.432e+00  7.631e-01]]\n",
            "Failure!  Derivatives different.\n",
            "-----------------------------------------------\n",
            "Weight 4, derivatives from backprop:\n",
            "[[ 0.     0.143  0.469  0.     0.     0.288]\n",
            " [ 0.     0.     0.     0.     0.     0.   ]\n",
            " [ 0.     0.001  0.002  0.     0.002  0.002]\n",
            " [ 0.     0.06   0.2    0.    -0.003  0.121]\n",
            " [ 0.     0.262  0.155  0.     0.067  0.027]\n",
            " [ 0.     0.     0.     0.     0.     0.   ]]\n",
            "Weight 4, derivatives from finite differences\n",
            "[[ 0.     2.859  9.372  0.     0.     5.764]\n",
            " [ 0.     0.     0.     0.     0.     0.   ]\n",
            " [ 0.     0.028  0.032  0.     0.03   0.035]\n",
            " [ 0.     1.201  3.998  0.    -0.055  2.421]\n",
            " [ 0.     5.244  3.1    0.     1.349  0.538]\n",
            " [ 0.     0.     0.     0.     0.     0.   ]]\n",
            "Failure!  Derivatives different.\n",
            "-----------------------------------------------\n",
            "Weight 5, derivatives from backprop:\n",
            "[[ 0.284  0.    -0.005  0.64   1.365  0.   ]]\n",
            "Weight 5, derivatives from finite differences\n",
            "[[ 5.679  0.    -0.09  12.793 27.3    0.   ]]\n",
            "Failure!  Derivatives different.\n"
          ]
        }
      ],
      "source": [
        "np.set_printoptions(precision=3)\n",
        "# Make space for derivatives computed by finite differences\n",
        "all_dl_dweights_fd = [None] * (K+1)\n",
        "all_dl_dbiases_fd = [None] * (K+1)\n",
        "\n",
        "# Let's test if we have the derivatives right using finite differences\n",
        "delta_fd = 0.000001\n",
        "\n",
        "# Test the dervatives of the bias vectors\n",
        "for layer in range(K+1):\n",
        "    dl_dbias  = np.zeros_like(all_biases[layer])\n",
        "    # For every element in the bias\n",
        "    for row in range(all_biases[layer].shape[0]):\n",
        "        # Take copy of biases.  We'll change one element each time\n",
        "        all_biases_copy = [np.array(x) for x in all_biases]\n",
        "        all_biases_copy[layer][row] += delta_fd\n",
        "        network_output_1, *_ = forward_pass(net_input, all_weights, all_biases_copy)\n",
        "        network_output_2, *_ = forward_pass(net_input, all_weights, all_biases)\n",
        "        dl_dbias[row] = (compute_cost(network_output_1, y) - compute_cost(network_output_2,y))/delta_fd\n",
        "    all_dl_dbiases_fd[layer] = np.array(dl_dbias)\n",
        "    print(\"-----------------------------------------------\")\n",
        "    print(\"Bias %d, derivatives from backprop:\"%(layer))\n",
        "    print(all_dl_dbiases[layer])\n",
        "    print(\"Bias %d, derivatives from finite differences\"%(layer))\n",
        "    print(all_dl_dbiases_fd[layer])\n",
        "    if np.allclose(all_dl_dbiases_fd[layer],all_dl_dbiases[layer],rtol=1e-03, atol=1e-07, equal_nan=False):\n",
        "        print(\"Success!  Derivatives match.\")\n",
        "    else:\n",
        "        print(\"Failure!  Derivatives different.\")\n",
        "\n",
        "\n",
        "\n",
        "# Test the derivatives of the weights matrices\n",
        "for layer in range(K+1):\n",
        "    dl_dweight  = np.zeros_like(all_weights[layer])\n",
        "    # For every element in the bias\n",
        "    for row in range(all_weights[layer].shape[0]):\n",
        "        for col in range(all_weights[layer].shape[1]):\n",
        "            # Take copy of biases. We'll change one element each time\n",
        "            all_weights_copy = [np.array(x) for x in all_weights]\n",
        "            all_weights_copy[layer][row][col] += delta_fd\n",
        "            network_output_1, *_ = forward_pass(net_input, all_weights_copy, all_biases)\n",
        "            network_output_2, *_ = forward_pass(net_input, all_weights, all_biases)\n",
        "            dl_dweight[row][col] = (compute_cost(network_output_1, y) - compute_cost(network_output_2,y))/delta_fd\n",
        "    all_dl_dweights_fd[layer] = np.array(dl_dweight)\n",
        "    print(\"-----------------------------------------------\")\n",
        "    print(\"Weight %d, derivatives from backprop:\"%(layer))\n",
        "    print(all_dl_dweights[layer])\n",
        "    print(\"Weight %d, derivatives from finite differences\"%(layer))\n",
        "    print(all_dl_dweights_fd[layer])\n",
        "    if np.allclose(all_dl_dweights_fd[layer],all_dl_dweights[layer],rtol=1e-03, atol=1e-07, equal_nan=False):\n",
        "        print(\"Success!  Derivatives match.\")\n",
        "    else:\n",
        "        print(\"Failure!  Derivatives different.\")"
      ]
    }
  ],
  "metadata": {
    "anaconda-cloud": {},
    "celltoolbar": "Tags",
    "colab": {
      "provenance": []
    },
    "kernelspec": {
      "display_name": "Python 3",
      "language": "python",
      "name": "python3"
    },
    "language_info": {
      "codemirror_mode": {
        "name": "ipython",
        "version": 3
      },
      "file_extension": ".py",
      "mimetype": "text/x-python",
      "name": "python",
      "nbconvert_exporter": "python",
      "pygments_lexer": "ipython3",
      "version": "3.7.7"
    }
  },
  "nbformat": 4,
  "nbformat_minor": 0
}