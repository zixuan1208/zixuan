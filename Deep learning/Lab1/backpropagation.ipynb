{
  "cells": [
    {
      "cell_type": "markdown",
      "metadata": {
        "id": "L6chybAVFJW2",
        "tags": []
      },
      "source": [
        "# **Notebook: Backpropagation**\n",
        "\n",
        "This notebook runs the backpropagation algorithm on a deep neural network as described in section 7.4 of the book for the least square loss function and for one data sample. In the end, it compares the derivatives with finite difference.\n",
        "\n",
        "After working though this notebook, you will use this notebook to extend to handle softmax output and cross-entropy loss as well as multiple data points.\n",
        "\n",
        "The notebook is a slight modification of https://github.com/udlbook/udlbook/blob/main/Notebooks/Chap07/7_2_Backpropagation.ipynb"
      ]
    },
    {
      "cell_type": "code",
      "execution_count": 301,
      "metadata": {
        "id": "LdIDglk1FFcG",
        "tags": []
      },
      "outputs": [],
      "source": [
        "import numpy as np\n",
        "import matplotlib.pyplot as plt"
      ]
    },
    {
      "cell_type": "markdown",
      "metadata": {
        "id": "nnUoI0m6GyjC",
        "tags": []
      },
      "source": [
        "First let's define a neural network.  We'll just choose the weights and biases randomly for now."
      ]
    },
    {
      "cell_type": "code",
      "execution_count": 302,
      "metadata": {
        "id": "WVM4Tc_jGI0Q",
        "tags": []
      },
      "outputs": [],
      "source": [
        "# Set seed so we always get the same random numbers\n",
        "np.random.seed(0)\n",
        "\n",
        "#5.59\n",
        "# # Number of hidden layers\n",
        "# K = 5\n",
        "# # Number of neurons per layer\n",
        "# D = 6\n",
        "# # Input layer dimension\n",
        "# D_i = 1\n",
        "# # Output layer dimension\n",
        "# D_o = 1\n",
        "\n",
        "#30.595\n",
        "# K = 3  #\n",
        "# D = 4  #\n",
        "# D_i = 1\n",
        "# D_o = 1\n",
        "\n",
        "# #808\n",
        "# K = 5\n",
        "# D = 6\n",
        "# D_i = 2  # 修改输入层维度\n",
        "# D_o = 1\n",
        "\n",
        "# Make empty lists\n",
        "all_weights = [None] * (K+1)\n",
        "all_biases = [None] * (K+1)\n",
        "\n",
        "# Create input and output layer\n",
        "if K==0:\n",
        "    all_weights[0] = np.random.normal(size=(D_o, D_i))\n",
        "else:\n",
        "    all_weights[0] = np.random.normal(size=(D, D_i))\n",
        "    all_weights[-1] = np.random.normal(size=(D_o, D))\n",
        "    all_biases[0] = np.random.normal(size =(D,1))\n",
        "\n",
        "all_biases[-1]= np.random.normal(size =(D_o,1))\n",
        "\n",
        "# Create intermediate layers\n",
        "for layer in range(1,K):\n",
        "    all_weights[layer] = np.random.normal(size=(D,D))\n",
        "    all_biases[layer] = np.random.normal(size=(D,1))"
      ]
    },
    {
      "cell_type": "code",
      "execution_count": 303,
      "metadata": {
        "id": "jZh-7bPXIDq4",
        "tags": []
      },
      "outputs": [],
      "source": [
        "# Define the Rectified Linear Unit (ReLU) function\n",
        "def ReLU(preactivation):\n",
        "    activation = preactivation.clip(0.0)\n",
        "    return activation"
      ]
    },
    {
      "cell_type": "markdown",
      "metadata": {
        "id": "5irtyxnLJSGX",
        "tags": []
      },
      "source": [
        "Now let's run our random network.  The weight matrices $\\boldsymbol\\Omega_{1\\ldots K}$ are the entries of the list \"all_weights\" and the biases $\\boldsymbol\\beta_{1\\ldots K}$ are the entries of the list \"all_biases\".\n",
        "\n",
        "We know that we will need the preactivations $\\mathbf{f}_{0\\ldots K}$ and the activations $\\mathbf{h}_{1\\ldots K}$ later for the backward pass of backpropagation, so we'll store and return these as well.\n"
      ]
    },
    {
      "cell_type": "code",
      "execution_count": 304,
      "metadata": {
        "id": "LgquJUJvJPaN",
        "tags": []
      },
      "outputs": [],
      "source": [
        "def forward_pass(net_input, all_weights, all_biases):\n",
        "\n",
        "    # Retrieve number of layers\n",
        "    K = len(all_weights) -1\n",
        "\n",
        "    # We'll store the pre-activations at each layer in a list \"all_f\"\n",
        "    # and the activations in a second list \"all_h\".\n",
        "    all_f = [None] * (K+1)\n",
        "    all_h = [None] * (K+1)\n",
        "\n",
        "    #For convenience, we'll set all_h[0] to be the input, and all_f[K] will be the output\n",
        "    all_h[0] = net_input\n",
        "\n",
        "    # Run through the layers, calculating all_f[0...K-1] and all_h[1...K]\n",
        "    for layer in range(K):\n",
        "        # Update preactivations and activations at this layer according to eq. 7.16 (eq. 7.17 if you use pdf version)\n",
        "        # Remember to use np.matmul for matrix multiplications\n",
        "        # TODO -- Replace the lines below\n",
        "        all_f[layer] = np.matmul(all_weights[layer],all_h[layer]) + all_biases[layer]\n",
        "        all_h[layer+1] = ReLU(all_f[layer])\n",
        "\n",
        "    # Compute the output from the last hidden layer\n",
        "    # TODO -- Replace the line below\n",
        "    # all_f[K] = (all_f[K-1] - net_input) ** 2\n",
        "    all_f[K]= np.matmul(all_weights[K], all_h[K])+ all_biases[K]\n",
        "    # Retrieve the output\n",
        "    net_output = all_f[K]\n",
        "\n",
        "    return net_output, all_f, all_h"
      ]
    },
    {
      "cell_type": "code",
      "execution_count": 305,
      "metadata": {
        "id": "IN6w5m2ZOhnB",
        "tags": [],
        "outputId": "0d3321aa-ab8f-4131-9077-63ba83687ac5",
        "colab": {
          "base_uri": "https://localhost:8080/"
        }
      },
      "outputs": [
        {
          "output_type": "stream",
          "name": "stdout",
          "text": [
            "True output = 2.757, Your answer = 29.420\n"
          ]
        }
      ],
      "source": [
        "# Define input\n",
        "n_samples=1 # Number of samples\n",
        "np.random.seed(0)\n",
        "net_input = np.random.normal(0,1,size=(D_i,n_samples)) # If data points as columns\n",
        "\n",
        "# Compute network output\n",
        "net_output, all_f, all_h = forward_pass(net_input,all_weights, all_biases)\n",
        "print(\"True output = %3.3f, Your answer = %3.3f\"%(2.757, net_output[0,0]))"
      ]
    },
    {
      "cell_type": "markdown",
      "metadata": {
        "id": "SxVTKp3IcoBF",
        "tags": []
      },
      "source": [
        "Now let's define a cost function. We'll just use the least squares loss function for this. We'll also write a function to compute d_cost_d_output.\n"
      ]
    },
    {
      "cell_type": "code",
      "execution_count": 306,
      "metadata": {
        "tags": [],
        "id": "I6c4ux9NRjJA",
        "outputId": "97632048-927e-49ff-b456-76e85d64a651",
        "colab": {
          "base_uri": "https://localhost:8080/"
        }
      },
      "outputs": [
        {
          "output_type": "stream",
          "name": "stdout",
          "text": [
            "y =  [[0.979]]\n",
            "Cost = 808.932\n"
          ]
        }
      ],
      "source": [
        "def compute_cost(net_output, y):\n",
        "    I = y.shape[1]  # Number of data points if data points as columns\n",
        "    return np.sum((net_output-y) * (net_output-y))/I\n",
        "\n",
        "def d_cost_d_output(net_output, y):\n",
        "    I = y.shape[1] # Number of data points if data points as columns\n",
        "    return 2*(net_output -y)/I;\n",
        "\n",
        "# Define the output we later will use for evaluating the gradients.\n",
        "y = np.random.normal(0,1,size=(D_o,n_samples))\n",
        "L = compute_cost(net_output, y)\n",
        "print(\"y = \",y)\n",
        "print(\"Cost = %3.3f\"%(L))"
      ]
    },
    {
      "cell_type": "markdown",
      "metadata": {
        "id": "98WmyqFYWA-0",
        "tags": []
      },
      "source": [
        "Now let's compute the derivatives of the network.  We already computed the forward pass.  Let's compute the backward pass."
      ]
    },
    {
      "cell_type": "code",
      "execution_count": 307,
      "metadata": {
        "id": "LJng7WpRPLMz",
        "tags": []
      },
      "outputs": [],
      "source": [
        "# We'll need the indicator function\n",
        "def indicator_function(x):\n",
        "    x_in = np.array(x)\n",
        "    x_in[x_in>0] = 1\n",
        "    x_in[x_in<=0] = 0\n",
        "    return x_in\n",
        "\n",
        "# Main backward pass routine\n",
        "def backward_pass(all_weights, all_biases, all_f, all_h, y):\n",
        "    # We'll store the derivatives dl_dweights and dl_dbiases in lists as well\n",
        "    all_dl_dweights = [None] * (K+1)\n",
        "    all_dl_dbiases = [None] * (K+1)\n",
        "    # And we'll store the derivatives of the cost with respect to the activation and preactivations in lists\n",
        "    all_dl_df = [None] * (K+1)\n",
        "    all_dl_dh = [None] * (K+1)\n",
        "    # Again for convenience we'll stick with the convention that all_h[0] is the net input and all_f[k] in the net output\n",
        "\n",
        "    # Compute derivatives of the cost with respect to the network output\n",
        "    all_dl_df[K] = np.array(d_cost_d_output(all_f[K],y))\n",
        "    # Now work backwards through the network\n",
        "    for layer in range(K,-1,-1):\n",
        "        # TODO Calculate the derivatives of the cost with respect to the biases at layer from all_dl_df[layer]. (eq 7.21, pdf version: eq 7.22)\n",
        "        # NOTE!  To take a copy of matrix X, use Z=np.array(X)\n",
        "        # REPLACE THIS LINE\n",
        "        all_dl_dbiases[layer] = np.array(all_dl_df[layer])\n",
        "\n",
        "        # TODO Calculate the derivatives of the cost with respect to the weights at layer from all_dl_df[layer] and all_h[layer] (eq 7.22, pdf version: eq 7.23)\n",
        "        # Don't forget to use np.matmul\n",
        "        # REPLACE THIS LINE\n",
        "        all_dl_dweights[layer] = np.matmul(all_dl_df[layer],all_h[layer].T)\n",
        "\n",
        "        # TODO: calculate the derivatives of the cost with respect to the activations from weight and derivatives of next preactivations (second part of last line of eq 7.24, pdf version: eq 7.25)\n",
        "        # REPLACE THIS LINE\n",
        "        all_dl_dh[layer] = np.matmul(all_weights[layer].T, all_dl_df[layer])\n",
        "\n",
        "        if layer > 0:\n",
        "            # TODO Calculate the derivatives of the cost with respect to the pre-activation f (use derivative of ReLu function, first part of last line of eq 7.24, pdf version: eq 7.25)\n",
        "            # REPLACE THIS LINE\n",
        "            all_dl_df[layer-1] = indicator_function(all_f[layer-1]) * all_dl_dh[layer]\n",
        "\n",
        "\n",
        "    return all_dl_dweights, all_dl_dbiases"
      ]
    },
    {
      "cell_type": "code",
      "execution_count": 308,
      "metadata": {
        "id": "9A9MHc4sQvbp",
        "tags": []
      },
      "outputs": [],
      "source": [
        "all_dl_dweights, all_dl_dbiases = backward_pass(all_weights, all_biases, all_f, all_h, y)"
      ]
    },
    {
      "cell_type": "code",
      "execution_count": 309,
      "metadata": {
        "colab": {
          "base_uri": "https://localhost:8080/"
        },
        "id": "PK-UtE3hreAK",
        "outputId": "1216b42c-1bf7-4fbe-b49c-17e37e157568",
        "scrolled": false,
        "tags": []
      },
      "outputs": [
        {
          "output_type": "stream",
          "name": "stdout",
          "text": [
            "-----------------------------------------------\n",
            "Bias 0, derivatives from backprop:\n",
            "[[ 559.859]\n",
            " [-146.267]\n",
            " [-125.724]\n",
            " [-359.543]\n",
            " [ 223.134]\n",
            " [-463.177]]\n",
            "Bias 0, derivatives from finite differences\n",
            "[[ 559.859]\n",
            " [-146.267]\n",
            " [-125.724]\n",
            " [-359.543]\n",
            " [ 223.134]\n",
            " [-463.177]]\n",
            "Success!  Derivatives match.\n",
            "-----------------------------------------------\n",
            "Bias 1, derivatives from backprop:\n",
            "[[  0.   ]\n",
            " [  0.   ]\n",
            " [  0.   ]\n",
            " [286.993]\n",
            " [ -0.   ]\n",
            " [ -0.   ]]\n",
            "Bias 1, derivatives from finite differences\n",
            "[[  0.   ]\n",
            " [  0.   ]\n",
            " [  0.   ]\n",
            " [286.993]\n",
            " [  0.   ]\n",
            " [  0.   ]]\n",
            "Success!  Derivatives match.\n",
            "-----------------------------------------------\n",
            "Bias 2, derivatives from backprop:\n",
            "[[-111.024]\n",
            " [  -0.   ]\n",
            " [  60.746]\n",
            " [  -0.   ]\n",
            " [ 113.771]\n",
            " [ 158.834]]\n",
            "Bias 2, derivatives from finite differences\n",
            "[[-111.024]\n",
            " [   0.   ]\n",
            " [  60.746]\n",
            " [   0.   ]\n",
            " [ 113.771]\n",
            " [ 158.834]]\n",
            "Success!  Derivatives match.\n",
            "-----------------------------------------------\n",
            "Bias 3, derivatives from backprop:\n",
            "[[ 68.907]\n",
            " [-71.123]\n",
            " [ -0.   ]\n",
            " [-32.963]\n",
            " [-54.371]\n",
            " [ 85.34 ]]\n",
            "Bias 3, derivatives from finite differences\n",
            "[[ 68.907]\n",
            " [-71.123]\n",
            " [  0.   ]\n",
            " [-32.963]\n",
            " [-54.371]\n",
            " [ 85.34 ]]\n",
            "Success!  Derivatives match.\n",
            "-----------------------------------------------\n",
            "Bias 4, derivatives from backprop:\n",
            "[[43.29 ]\n",
            " [ 6.921]\n",
            " [25.248]\n",
            " [ 0.   ]\n",
            " [ 0.   ]\n",
            " [-0.   ]]\n",
            "Bias 4, derivatives from finite differences\n",
            "[[43.29 ]\n",
            " [ 6.921]\n",
            " [25.248]\n",
            " [ 0.   ]\n",
            " [ 0.   ]\n",
            " [ 0.   ]]\n",
            "Success!  Derivatives match.\n",
            "-----------------------------------------------\n",
            "Bias 5, derivatives from backprop:\n",
            "[[56.883]]\n",
            "Bias 5, derivatives from finite differences\n",
            "[[56.883]]\n",
            "Success!  Derivatives match.\n",
            "-----------------------------------------------\n",
            "Weight 0, derivatives from backprop:\n",
            "[[ 987.62   224.032]\n",
            " [-258.022  -58.53 ]\n",
            " [-221.784  -50.309]\n",
            " [-634.253 -143.874]\n",
            " [ 393.62    89.289]\n",
            " [-817.069 -185.344]]\n",
            "Weight 0, derivatives from finite differences\n",
            "[[ 987.62   224.032]\n",
            " [-258.022  -58.53 ]\n",
            " [-221.784  -50.309]\n",
            " [-634.253 -143.874]\n",
            " [ 393.621   89.289]\n",
            " [-817.069 -185.344]]\n",
            "Success!  Derivatives match.\n",
            "-----------------------------------------------\n",
            "Weight 1, derivatives from backprop:\n",
            "[[   0.       0.       0.       0.       0.       0.   ]\n",
            " [   0.       0.       0.       0.       0.       0.   ]\n",
            " [   0.       0.       0.       0.       0.       0.   ]\n",
            " [1028.891  507.736  100.567  651.203  242.984   26.941]\n",
            " [   0.       0.       0.       0.       0.       0.   ]\n",
            " [   0.       0.       0.       0.       0.       0.   ]]\n",
            "Weight 1, derivatives from finite differences\n",
            "[[   0.       0.       0.       0.       0.       0.   ]\n",
            " [   0.       0.       0.       0.       0.       0.   ]\n",
            " [   0.       0.       0.       0.       0.       0.   ]\n",
            " [1028.891  507.736  100.567  651.204  242.985   26.941]\n",
            " [   0.       0.       0.       0.       0.       0.   ]\n",
            " [   0.       0.       0.       0.       0.       0.   ]]\n",
            "Success!  Derivatives match.\n",
            "-----------------------------------------------\n",
            "Weight 2, derivatives from backprop:\n",
            "[[   0.       0.       0.    -419.676    0.       0.   ]\n",
            " [   0.       0.       0.       0.       0.       0.   ]\n",
            " [   0.       0.       0.     229.624    0.       0.   ]\n",
            " [   0.       0.       0.       0.       0.       0.   ]\n",
            " [   0.       0.       0.     430.058    0.       0.   ]\n",
            " [   0.       0.       0.     600.398    0.       0.   ]]\n",
            "Weight 2, derivatives from finite differences\n",
            "[[   0.       0.       0.    -419.676    0.       0.   ]\n",
            " [   0.       0.       0.       0.       0.       0.   ]\n",
            " [   0.       0.       0.     229.624    0.       0.   ]\n",
            " [   0.       0.       0.       0.       0.       0.   ]\n",
            " [   0.       0.       0.     430.058    0.       0.   ]\n",
            " [   0.       0.       0.     600.398    0.       0.   ]]\n",
            "Success!  Derivatives match.\n",
            "-----------------------------------------------\n",
            "Weight 3, derivatives from backprop:\n",
            "[[ 256.707    0.     255.222    0.      41.319  623.014]\n",
            " [-264.961    0.    -263.429    0.     -42.647 -643.047]\n",
            " [   0.       0.       0.       0.       0.       0.   ]\n",
            " [-122.8      0.    -122.09     0.     -19.765 -298.029]\n",
            " [-202.551    0.    -201.38     0.     -32.602 -491.582]\n",
            " [ 317.924    0.     316.085    0.      51.172  771.584]]\n",
            "Weight 3, derivatives from finite differences\n",
            "[[ 256.707    0.     255.222    0.      41.319  623.014]\n",
            " [-264.961    0.    -263.429    0.     -42.647 -643.047]\n",
            " [   0.       0.       0.       0.       0.       0.   ]\n",
            " [-122.8      0.    -122.09     0.     -19.765 -298.029]\n",
            " [-202.551    0.    -201.38     0.     -32.602 -491.582]\n",
            " [ 317.924    0.     316.085    0.      51.172  771.585]]\n",
            "Success!  Derivatives match.\n",
            "-----------------------------------------------\n",
            "Weight 4, derivatives from backprop:\n",
            "[[369.615 236.317   0.     56.666 243.202 840.471]\n",
            " [ 59.094  37.782   0.      9.06   38.883 134.375]\n",
            " [215.572 137.828   0.     33.05  141.844 490.191]\n",
            " [  0.      0.      0.      0.      0.      0.   ]\n",
            " [  0.      0.      0.      0.      0.      0.   ]\n",
            " [  0.      0.      0.      0.      0.      0.   ]]\n",
            "Weight 4, derivatives from finite differences\n",
            "[[369.615 236.317   0.     56.666 243.203 840.471]\n",
            " [ 59.094  37.782   0.      9.06   38.883 134.375]\n",
            " [215.572 137.828   0.     33.05  141.844 490.191]\n",
            " [  0.      0.      0.      0.      0.      0.   ]\n",
            " [  0.      0.      0.      0.      0.      0.   ]\n",
            " [  0.      0.      0.      0.      0.      0.   ]]\n",
            "Success!  Derivatives match.\n",
            "-----------------------------------------------\n",
            "Weight 5, derivatives from backprop:\n",
            "[[1628.702  705.174  493.669    0.       0.       0.   ]]\n",
            "Weight 5, derivatives from finite differences\n",
            "[[1628.703  705.174  493.669    0.       0.       0.   ]]\n",
            "Success!  Derivatives match.\n"
          ]
        }
      ],
      "source": [
        "np.set_printoptions(precision=3)\n",
        "# Make space for derivatives computed by finite differences\n",
        "all_dl_dweights_fd = [None] * (K+1)\n",
        "all_dl_dbiases_fd = [None] * (K+1)\n",
        "\n",
        "# Let's test if we have the derivatives right using finite differences\n",
        "delta_fd = 0.000001\n",
        "\n",
        "# Test the dervatives of the bias vectors\n",
        "for layer in range(K+1):\n",
        "    dl_dbias  = np.zeros_like(all_biases[layer])\n",
        "    # For every element in the bias\n",
        "    for row in range(all_biases[layer].shape[0]):\n",
        "        # Take copy of biases.  We'll change one element each time\n",
        "        all_biases_copy = [np.array(x) for x in all_biases]\n",
        "        all_biases_copy[layer][row] += delta_fd\n",
        "        network_output_1, *_ = forward_pass(net_input, all_weights, all_biases_copy)\n",
        "        network_output_2, *_ = forward_pass(net_input, all_weights, all_biases)\n",
        "        dl_dbias[row] = (compute_cost(network_output_1, y) - compute_cost(network_output_2,y))/delta_fd\n",
        "    all_dl_dbiases_fd[layer] = np.array(dl_dbias)\n",
        "    print(\"-----------------------------------------------\")\n",
        "    print(\"Bias %d, derivatives from backprop:\"%(layer))\n",
        "    print(all_dl_dbiases[layer])\n",
        "    print(\"Bias %d, derivatives from finite differences\"%(layer))\n",
        "    print(all_dl_dbiases_fd[layer])\n",
        "    if np.allclose(all_dl_dbiases_fd[layer],all_dl_dbiases[layer],rtol=1e-03, atol=1e-07, equal_nan=False):\n",
        "        print(\"Success!  Derivatives match.\")\n",
        "    else:\n",
        "        print(\"Failure!  Derivatives different.\")\n",
        "\n",
        "\n",
        "\n",
        "# Test the derivatives of the weights matrices\n",
        "for layer in range(K+1):\n",
        "    dl_dweight  = np.zeros_like(all_weights[layer])\n",
        "    # For every element in the bias\n",
        "    for row in range(all_weights[layer].shape[0]):\n",
        "        for col in range(all_weights[layer].shape[1]):\n",
        "            # Take copy of biases. We'll change one element each time\n",
        "            all_weights_copy = [np.array(x) for x in all_weights]\n",
        "            all_weights_copy[layer][row][col] += delta_fd\n",
        "            network_output_1, *_ = forward_pass(net_input, all_weights_copy, all_biases)\n",
        "            network_output_2, *_ = forward_pass(net_input, all_weights, all_biases)\n",
        "            dl_dweight[row][col] = (compute_cost(network_output_1, y) - compute_cost(network_output_2,y))/delta_fd\n",
        "    all_dl_dweights_fd[layer] = np.array(dl_dweight)\n",
        "    print(\"-----------------------------------------------\")\n",
        "    print(\"Weight %d, derivatives from backprop:\"%(layer))\n",
        "    print(all_dl_dweights[layer])\n",
        "    print(\"Weight %d, derivatives from finite differences\"%(layer))\n",
        "    print(all_dl_dweights_fd[layer])\n",
        "    if np.allclose(all_dl_dweights_fd[layer],all_dl_dweights[layer],rtol=1e-03, atol=1e-07, equal_nan=False):\n",
        "        print(\"Success!  Derivatives match.\")\n",
        "    else:\n",
        "        print(\"Failure!  Derivatives different.\")"
      ]
    }
  ],
  "metadata": {
    "anaconda-cloud": {},
    "celltoolbar": "Tags",
    "colab": {
      "provenance": []
    },
    "kernelspec": {
      "display_name": "Python 3",
      "language": "python",
      "name": "python3"
    },
    "language_info": {
      "codemirror_mode": {
        "name": "ipython",
        "version": 3
      },
      "file_extension": ".py",
      "mimetype": "text/x-python",
      "name": "python",
      "nbconvert_exporter": "python",
      "pygments_lexer": "ipython3",
      "version": "3.7.7"
    }
  },
  "nbformat": 4,
  "nbformat_minor": 0
}